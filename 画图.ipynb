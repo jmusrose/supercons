{
 "cells": [
  {
   "cell_type": "code",
   "execution_count": 1,
   "id": "7c74bb11",
   "metadata": {
    "ExecuteTime": {
     "end_time": "2023-02-06T09:19:31.436637Z",
     "start_time": "2023-02-06T09:19:31.295192Z"
    }
   },
   "outputs": [],
   "source": [
    "import numpy as np\n",
    " \n",
    "from PIL import Image\n",
    " \n",
    "paths = ['figure1.png', 'figure2.png']\n",
    "img_array = ''\n",
    "img = ''\n",
    "for i, v in enumerate(paths):\n",
    "    if i == 0:\n",
    "        img = Image.open(v)  # 打开图片\n",
    "        img_array = np.array(img)  # 转化为np array对象\n",
    "    if i > 0:\n",
    "        img_array2 = np.array(Image.open(v))\n",
    "        img_array = np.concatenate((img_array, img_array2), axis=1)  # 横向拼接\n",
    "        # img_array = np.concatenate((img_array, img_array2), axis=0)  # 纵向拼接\n",
    "        img = Image.fromarray(img_array)\n",
    " \n",
    " \n",
    " \n",
    "# 保存图片\n",
    "img.save('test.png')"
   ]
  },
  {
   "cell_type": "code",
   "execution_count": null,
   "id": "a547874e",
   "metadata": {},
   "outputs": [],
   "source": []
  }
 ],
 "metadata": {
  "kernelspec": {
   "display_name": "Python 3 (ipykernel)",
   "language": "python",
   "name": "python3"
  },
  "language_info": {
   "codemirror_mode": {
    "name": "ipython",
    "version": 3
   },
   "file_extension": ".py",
   "mimetype": "text/x-python",
   "name": "python",
   "nbconvert_exporter": "python",
   "pygments_lexer": "ipython3",
   "version": "3.7.12"
  },
  "toc": {
   "base_numbering": 1,
   "nav_menu": {},
   "number_sections": true,
   "sideBar": true,
   "skip_h1_title": false,
   "title_cell": "Table of Contents",
   "title_sidebar": "Contents",
   "toc_cell": false,
   "toc_position": {},
   "toc_section_display": true,
   "toc_window_display": false
  },
  "varInspector": {
   "cols": {
    "lenName": 16,
    "lenType": 16,
    "lenVar": 40
   },
   "kernels_config": {
    "python": {
     "delete_cmd_postfix": "",
     "delete_cmd_prefix": "del ",
     "library": "var_list.py",
     "varRefreshCmd": "print(var_dic_list())"
    },
    "r": {
     "delete_cmd_postfix": ") ",
     "delete_cmd_prefix": "rm(",
     "library": "var_list.r",
     "varRefreshCmd": "cat(var_dic_list()) "
    }
   },
   "types_to_exclude": [
    "module",
    "function",
    "builtin_function_or_method",
    "instance",
    "_Feature"
   ],
   "window_display": false
  }
 },
 "nbformat": 4,
 "nbformat_minor": 5
}
