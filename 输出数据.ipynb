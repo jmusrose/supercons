{
 "cells": [
  {
   "cell_type": "code",
   "execution_count": 17,
   "id": "37a981a9",
   "metadata": {
    "ExecuteTime": {
     "end_time": "2023-02-04T11:13:08.363545Z",
     "start_time": "2023-02-04T11:13:08.345593Z"
    }
   },
   "outputs": [],
   "source": [
    "import numpy as np\n",
    "import pandas as pd\n",
    "import os\n",
    "from xgboost import XGBRegressor as XGBR\n",
    "from sklearn.ensemble import RandomForestRegressor\n",
    "from sklearn.linear_model import LinearRegression\n",
    "from sklearn import datasets\n",
    "from sklearn.model_selection import KFold,cross_val_score,train_test_split\n",
    "from sklearn.metrics import mean_squared_error\n",
    "import matplotlib.pyplot as plt\n",
    "from time import time\n",
    "import datetime\n",
    "from sklearn.ensemble import RandomForestRegressor\n",
    "from sklearn.model_selection import train_test_split\n",
    "from sklearn.metrics import r2_score, mean_squared_error\n",
    "from sklearn.preprocessing import StandardScaler"
   ]
  },
  {
   "cell_type": "code",
   "execution_count": 18,
   "id": "4b473612",
   "metadata": {
    "ExecuteTime": {
     "end_time": "2023-02-04T11:13:09.208113Z",
     "start_time": "2023-02-04T11:13:08.889964Z"
    }
   },
   "outputs": [],
   "source": [
    "path = 'train.csv'\n",
    "path1 = 'unique_m.csv'\n",
    "Dataset1 = pd.read_csv(path)\n",
    "Dataset2 = pd.read_csv(path1).drop(['critical_temp', 'material'], axis = 1)\n",
    "\n",
    "dataFrame = pd.concat([Dataset1, Dataset2], axis = 1)"
   ]
  },
  {
   "cell_type": "code",
   "execution_count": 19,
   "id": "475cd7f5",
   "metadata": {
    "ExecuteTime": {
     "end_time": "2023-02-04T11:13:10.875674Z",
     "start_time": "2023-02-04T11:13:09.426543Z"
    }
   },
   "outputs": [
    {
     "data": {
      "text/html": [
       "<div>\n",
       "<style scoped>\n",
       "    .dataframe tbody tr th:only-of-type {\n",
       "        vertical-align: middle;\n",
       "    }\n",
       "\n",
       "    .dataframe tbody tr th {\n",
       "        vertical-align: top;\n",
       "    }\n",
       "\n",
       "    .dataframe thead th {\n",
       "        text-align: right;\n",
       "    }\n",
       "</style>\n",
       "<table border=\"1\" class=\"dataframe\">\n",
       "  <thead>\n",
       "    <tr style=\"text-align: right;\">\n",
       "      <th></th>\n",
       "      <th>number_of_elements</th>\n",
       "      <th>mean_atomic_mass</th>\n",
       "      <th>range_atomic_mass</th>\n",
       "      <th>wtd_range_atomic_mass</th>\n",
       "      <th>mean_fie</th>\n",
       "      <th>wtd_mean_fie</th>\n",
       "      <th>wtd_range_fie</th>\n",
       "      <th>mean_atomic_radius</th>\n",
       "      <th>wtd_range_atomic_radius</th>\n",
       "      <th>range_Density</th>\n",
       "      <th>...</th>\n",
       "      <th>Ir</th>\n",
       "      <th>Pt</th>\n",
       "      <th>Au</th>\n",
       "      <th>Hg</th>\n",
       "      <th>Tl</th>\n",
       "      <th>Pb</th>\n",
       "      <th>Bi</th>\n",
       "      <th>Po</th>\n",
       "      <th>At</th>\n",
       "      <th>Rn</th>\n",
       "    </tr>\n",
       "  </thead>\n",
       "  <tbody>\n",
       "    <tr>\n",
       "      <th>0</th>\n",
       "      <td>4</td>\n",
       "      <td>88.944468</td>\n",
       "      <td>122.90607</td>\n",
       "      <td>31.794921</td>\n",
       "      <td>775.425</td>\n",
       "      <td>1010.268571</td>\n",
       "      <td>735.985714</td>\n",
       "      <td>160.25</td>\n",
       "      <td>42.914286</td>\n",
       "      <td>8958.571</td>\n",
       "      <td>...</td>\n",
       "      <td>0.0</td>\n",
       "      <td>0.0</td>\n",
       "      <td>0.0</td>\n",
       "      <td>0.0</td>\n",
       "      <td>0.0</td>\n",
       "      <td>0.0</td>\n",
       "      <td>0.0</td>\n",
       "      <td>0</td>\n",
       "      <td>0</td>\n",
       "      <td>0</td>\n",
       "    </tr>\n",
       "    <tr>\n",
       "      <th>1</th>\n",
       "      <td>5</td>\n",
       "      <td>92.729214</td>\n",
       "      <td>122.90607</td>\n",
       "      <td>36.161939</td>\n",
       "      <td>766.440</td>\n",
       "      <td>1010.612857</td>\n",
       "      <td>743.164286</td>\n",
       "      <td>161.20</td>\n",
       "      <td>50.571429</td>\n",
       "      <td>10488.571</td>\n",
       "      <td>...</td>\n",
       "      <td>0.0</td>\n",
       "      <td>0.0</td>\n",
       "      <td>0.0</td>\n",
       "      <td>0.0</td>\n",
       "      <td>0.0</td>\n",
       "      <td>0.0</td>\n",
       "      <td>0.0</td>\n",
       "      <td>0</td>\n",
       "      <td>0</td>\n",
       "      <td>0</td>\n",
       "    </tr>\n",
       "    <tr>\n",
       "      <th>2</th>\n",
       "      <td>4</td>\n",
       "      <td>88.944468</td>\n",
       "      <td>122.90607</td>\n",
       "      <td>35.741099</td>\n",
       "      <td>775.425</td>\n",
       "      <td>1010.820000</td>\n",
       "      <td>743.164286</td>\n",
       "      <td>160.25</td>\n",
       "      <td>49.314286</td>\n",
       "      <td>8958.571</td>\n",
       "      <td>...</td>\n",
       "      <td>0.0</td>\n",
       "      <td>0.0</td>\n",
       "      <td>0.0</td>\n",
       "      <td>0.0</td>\n",
       "      <td>0.0</td>\n",
       "      <td>0.0</td>\n",
       "      <td>0.0</td>\n",
       "      <td>0</td>\n",
       "      <td>0</td>\n",
       "      <td>0</td>\n",
       "    </tr>\n",
       "    <tr>\n",
       "      <th>3</th>\n",
       "      <td>4</td>\n",
       "      <td>88.944468</td>\n",
       "      <td>122.90607</td>\n",
       "      <td>33.768010</td>\n",
       "      <td>775.425</td>\n",
       "      <td>1010.544286</td>\n",
       "      <td>739.575000</td>\n",
       "      <td>160.25</td>\n",
       "      <td>46.114286</td>\n",
       "      <td>8958.571</td>\n",
       "      <td>...</td>\n",
       "      <td>0.0</td>\n",
       "      <td>0.0</td>\n",
       "      <td>0.0</td>\n",
       "      <td>0.0</td>\n",
       "      <td>0.0</td>\n",
       "      <td>0.0</td>\n",
       "      <td>0.0</td>\n",
       "      <td>0</td>\n",
       "      <td>0</td>\n",
       "      <td>0</td>\n",
       "    </tr>\n",
       "    <tr>\n",
       "      <th>4</th>\n",
       "      <td>4</td>\n",
       "      <td>88.944468</td>\n",
       "      <td>122.90607</td>\n",
       "      <td>27.848743</td>\n",
       "      <td>775.425</td>\n",
       "      <td>1009.717143</td>\n",
       "      <td>728.807143</td>\n",
       "      <td>160.25</td>\n",
       "      <td>36.514286</td>\n",
       "      <td>8958.571</td>\n",
       "      <td>...</td>\n",
       "      <td>0.0</td>\n",
       "      <td>0.0</td>\n",
       "      <td>0.0</td>\n",
       "      <td>0.0</td>\n",
       "      <td>0.0</td>\n",
       "      <td>0.0</td>\n",
       "      <td>0.0</td>\n",
       "      <td>0</td>\n",
       "      <td>0</td>\n",
       "      <td>0</td>\n",
       "    </tr>\n",
       "  </tbody>\n",
       "</table>\n",
       "<p>5 rows × 108 columns</p>\n",
       "</div>"
      ],
      "text/plain": [
       "   number_of_elements  mean_atomic_mass  range_atomic_mass  \\\n",
       "0                   4         88.944468          122.90607   \n",
       "1                   5         92.729214          122.90607   \n",
       "2                   4         88.944468          122.90607   \n",
       "3                   4         88.944468          122.90607   \n",
       "4                   4         88.944468          122.90607   \n",
       "\n",
       "   wtd_range_atomic_mass  mean_fie  wtd_mean_fie  wtd_range_fie  \\\n",
       "0              31.794921   775.425   1010.268571     735.985714   \n",
       "1              36.161939   766.440   1010.612857     743.164286   \n",
       "2              35.741099   775.425   1010.820000     743.164286   \n",
       "3              33.768010   775.425   1010.544286     739.575000   \n",
       "4              27.848743   775.425   1009.717143     728.807143   \n",
       "\n",
       "   mean_atomic_radius  wtd_range_atomic_radius  range_Density  ...   Ir   Pt  \\\n",
       "0              160.25                42.914286       8958.571  ...  0.0  0.0   \n",
       "1              161.20                50.571429      10488.571  ...  0.0  0.0   \n",
       "2              160.25                49.314286       8958.571  ...  0.0  0.0   \n",
       "3              160.25                46.114286       8958.571  ...  0.0  0.0   \n",
       "4              160.25                36.514286       8958.571  ...  0.0  0.0   \n",
       "\n",
       "    Au   Hg   Tl   Pb   Bi  Po  At  Rn  \n",
       "0  0.0  0.0  0.0  0.0  0.0   0   0   0  \n",
       "1  0.0  0.0  0.0  0.0  0.0   0   0   0  \n",
       "2  0.0  0.0  0.0  0.0  0.0   0   0   0  \n",
       "3  0.0  0.0  0.0  0.0  0.0   0   0   0  \n",
       "4  0.0  0.0  0.0  0.0  0.0   0   0   0  \n",
       "\n",
       "[5 rows x 108 columns]"
      ]
     },
     "execution_count": 19,
     "metadata": {},
     "output_type": "execute_result"
    }
   ],
   "source": [
    "# 删除一切相关联的特征,进行抽象\n",
    "correlationMatrix = dataFrame.corr()\n",
    "correlationFeatures = set()\n",
    "\n",
    "for i in range(len(correlationMatrix)) :\n",
    "    for j in range(i) :\n",
    "        if abs(correlationMatrix.iloc[i, j]) > 0.75 :\n",
    "            colname = correlationMatrix.columns[i]\n",
    "            if colname != \"critical_temp\" :\n",
    "                correlationFeatures.add(colname)\n",
    "dataFrame.drop(correlationFeatures, axis = 1, inplace = True)\n",
    "dataFrame.head(5)"
   ]
  },
  {
   "cell_type": "code",
   "execution_count": 20,
   "id": "4af2e97a",
   "metadata": {
    "ExecuteTime": {
     "end_time": "2023-02-04T11:13:11.501397Z",
     "start_time": "2023-02-04T11:13:11.451516Z"
    }
   },
   "outputs": [
    {
     "data": {
      "text/plain": [
       "(21263, 63)"
      ]
     },
     "execution_count": 20,
     "metadata": {},
     "output_type": "execute_result"
    }
   ],
   "source": [
    "# 把方差低的特征剔除\n",
    "from sklearn.feature_selection import VarianceThreshold\n",
    "\n",
    "selector = VarianceThreshold(threshold = 0.1)\n",
    "selector.fit(dataFrame)\n",
    "dataFrame = pd.DataFrame(selector.transform(dataFrame), columns = dataFrame.columns[selector.get_support()])\n",
    "dataFrame.shape"
   ]
  },
  {
   "cell_type": "code",
   "execution_count": 21,
   "id": "fb1f7f3b",
   "metadata": {
    "ExecuteTime": {
     "end_time": "2023-02-04T11:13:12.860103Z",
     "start_time": "2023-02-04T11:13:12.167345Z"
    }
   },
   "outputs": [],
   "source": [
    "dataFrame.to_csv('CleanData.csv')"
   ]
  },
  {
   "cell_type": "code",
   "execution_count": 22,
   "id": "87935e8e",
   "metadata": {
    "ExecuteTime": {
     "end_time": "2023-02-04T11:13:13.354824Z",
     "start_time": "2023-02-04T11:13:13.190871Z"
    }
   },
   "outputs": [],
   "source": [
    "sc = StandardScaler()\n",
    "\n",
    "df = pd.read_csv('CleanData.csv')\n",
    "x = df.drop('critical_temp', axis = 1)\n",
    "x_scale = sc.fit_transform(x)\n",
    "x = pd.DataFrame(x_scale, columns = x.columns)\n",
    "y = df['critical_temp']\n",
    "\n",
    "x_train, x_test, y_train, y_test = train_test_split(x, y, test_size = 0.25, random_state = 42)"
   ]
  },
  {
   "cell_type": "code",
   "execution_count": 35,
   "id": "fe38ec3e",
   "metadata": {
    "ExecuteTime": {
     "end_time": "2023-02-04T11:18:05.632500Z",
     "start_time": "2023-02-04T11:17:55.563434Z"
    }
   },
   "outputs": [
    {
     "name": "stdout",
     "output_type": "stream",
     "text": [
      "0.9353\n",
      "8.4193\n"
     ]
    }
   ],
   "source": [
    "reg = XGBR(n_estimators=988,\n",
    "           max_depth = 8,\n",
    "           eta = 0.11478691728033347,\n",
    "          ).fit(x_train,y_train)\n",
    "y_prediction = pd.Series(reg.predict(x_test))\n",
    "min_rmse = round(np.sqrt(mean_squared_error(y_test, y_prediction)), 4)\n",
    "r2 = round(r2_score(y_prediction, y_test), 4)\n",
    "\n",
    "print(r2)\n",
    "print(min_rmse)"
   ]
  },
  {
   "cell_type": "code",
   "execution_count": 36,
   "id": "e1753300",
   "metadata": {
    "ExecuteTime": {
     "end_time": "2023-02-04T11:18:26.322238Z",
     "start_time": "2023-02-04T11:18:26.300827Z"
    }
   },
   "outputs": [],
   "source": [
    "y_test.to_csv('y_test2.csv')"
   ]
  },
  {
   "cell_type": "code",
   "execution_count": 37,
   "id": "1e90045b",
   "metadata": {
    "ExecuteTime": {
     "end_time": "2023-02-04T11:18:26.848602Z",
     "start_time": "2023-02-04T11:18:26.827353Z"
    }
   },
   "outputs": [],
   "source": [
    "y_prediction.to_csv('y_predict2.csv')"
   ]
  },
  {
   "cell_type": "code",
   "execution_count": null,
   "id": "0f8cd002",
   "metadata": {},
   "outputs": [],
   "source": []
  }
 ],
 "metadata": {
  "kernelspec": {
   "display_name": "wzy",
   "language": "python",
   "name": "wzy"
  },
  "language_info": {
   "codemirror_mode": {
    "name": "ipython",
    "version": 3
   },
   "file_extension": ".py",
   "mimetype": "text/x-python",
   "name": "python",
   "nbconvert_exporter": "python",
   "pygments_lexer": "ipython3",
   "version": "3.7.12"
  },
  "varInspector": {
   "cols": {
    "lenName": 16,
    "lenType": 16,
    "lenVar": 40
   },
   "kernels_config": {
    "python": {
     "delete_cmd_postfix": "",
     "delete_cmd_prefix": "del ",
     "library": "var_list.py",
     "varRefreshCmd": "print(var_dic_list())"
    },
    "r": {
     "delete_cmd_postfix": ") ",
     "delete_cmd_prefix": "rm(",
     "library": "var_list.r",
     "varRefreshCmd": "cat(var_dic_list()) "
    }
   },
   "types_to_exclude": [
    "module",
    "function",
    "builtin_function_or_method",
    "instance",
    "_Feature"
   ],
   "window_display": false
  }
 },
 "nbformat": 4,
 "nbformat_minor": 5
}
